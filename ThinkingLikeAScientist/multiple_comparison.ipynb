{
 "cells": [
  {
   "cell_type": "markdown",
   "metadata": {},
   "source": [
    "Testing multiple hypothesis from the same data can be problematic. The chance of finding false significance can be surprisingly high. \n",
    "\n"
   ]
  },
  {
   "cell_type": "code",
   "execution_count": 15,
   "metadata": {},
   "outputs": [],
   "source": [
    "import pandas as pd\n",
    "import numpy as np\n",
    "import numpy.random as nr\n",
    "import statsmodels.api as sm\n",
    "\n",
    "import matplotlib.pyplot as plt\n",
    "%matplotlib inline"
   ]
  },
  {
   "cell_type": "markdown",
   "metadata": {},
   "source": [
    "To illustrate this, consider applying a t-test to multiple identical Normally distributed variables. In this case, we will create a data set with 20 independently identically distributed (iid) Normal distributions of 1000 samples each.  "
   ]
  },
  {
   "cell_type": "code",
   "execution_count": 9,
   "metadata": {},
   "outputs": [
    {
     "name": "stdout",
     "output_type": "stream",
     "text": [
      "The means of the columns are\n",
      " [-1.16191649e-01  2.80829317e-02 -1.78516419e-02 -1.44691489e-02\n",
      "  3.03718152e-02  1.20007442e-02 -9.58845606e-05  1.98662580e-03\n",
      "  4.94154934e-02 -4.11640866e-02 -6.32977862e-03 -5.93868192e-02\n",
      " -2.56373595e-02  1.43568791e-02 -1.44725765e-02 -1.37023955e-02\n",
      "  1.80622439e-02  5.87029691e-02 -2.02650514e-02 -1.56346106e-02]\n",
      "\n",
      "The variances of the columns are\n",
      " [0.94834508 1.04744241 1.0258018  0.96977571 1.0089001  1.04113864\n",
      " 1.00657222 0.99192594 1.04713487 1.04329434 1.04023108 0.96791346\n",
      " 1.03706907 1.07179865 1.01431404 1.05060289 1.02054329 0.9686211\n",
      " 1.02810287 0.99521555]\n"
     ]
    }
   ],
   "source": [
    "ncolumns = 20\n",
    "nr.seed(234)\n",
    "normal_vars = nr.normal(size=(1000,ncolumns))\n",
    "print('The means of the columns are\\n', np.mean(normal_vars, axis = 0))\n",
    "print('\\nThe variances of the columns are\\n', np.var(normal_vars, axis = 0))"
   ]
  },
  {
   "cell_type": "markdown",
   "metadata": {},
   "source": [
    "Notice that means and variances are close to 0.0 and 1.0. There is not much difference between these variables. \n",
    "\n",
    "Now for each pair of variables we will compute the t-statistic and p-value and append them to lists."
   ]
  },
  {
   "cell_type": "code",
   "execution_count": 10,
   "metadata": {},
   "outputs": [],
   "source": [
    "from scipy.stats import ttest_ind, f_oneway\n",
    "from itertools import product\n",
    "#ttest_results = np.zeros((ncolumns*ncolumns,2))\n",
    "ttest_results = []\n",
    "p_values = []\n",
    "for i,j in product(range(ncolumns),range(ncolumns)):\n",
    "    if(i != j): # We only want to test between different samples \n",
    "        t1, t2 = ttest_ind(normal_vars[:,i], normal_vars[:,j])\n",
    "        ttest_results.append(t1)\n",
    "        p_values.append(t2)"
   ]
  },
  {
   "cell_type": "markdown",
   "metadata": {},
   "source": [
    "How many of these t-tests would show **significance**. To find out, filter the test results and print results that show significance. "
   ]
  },
  {
   "cell_type": "code",
   "execution_count": 11,
   "metadata": {},
   "outputs": [
    {
     "name": "stdout",
     "output_type": "stream",
     "text": [
      "t-test with SIGNIFICANT, t-statistic =  -3.23  and p-value =  0.0013\n",
      "t-test with SIGNIFICANT, t-statistic =  -2.21  and p-value =  0.0271\n",
      "t-test with SIGNIFICANT, t-statistic =  -2.32  and p-value =  0.0204\n",
      "t-test with SIGNIFICANT, t-statistic =  -3.31  and p-value =  0.0009\n",
      "t-test with SIGNIFICANT, t-statistic =  -2.87  and p-value =  0.0041\n",
      "t-test with SIGNIFICANT, t-statistic =  -2.62  and p-value =  0.0087\n",
      "t-test with SIGNIFICANT, t-statistic =  -2.68  and p-value =  0.0074\n",
      "t-test with SIGNIFICANT, t-statistic =  -3.71  and p-value =  0.0002\n",
      "t-test with SIGNIFICANT, t-statistic =  -2.46  and p-value =  0.0139\n",
      "t-test with SIGNIFICANT, t-statistic =  -2.03  and p-value =  0.0424\n",
      "t-test with SIGNIFICANT, t-statistic =  -2.9  and p-value =  0.0037\n",
      "t-test with SIGNIFICANT, t-statistic =  -2.29  and p-value =  0.0218\n",
      "t-test with SIGNIFICANT, t-statistic =  -2.29  and p-value =  0.0221\n",
      "t-test with SIGNIFICANT, t-statistic =  -3.02  and p-value =  0.0025\n",
      "t-test with SIGNIFICANT, t-statistic =  -3.99  and p-value =  0.0001\n",
      "t-test with SIGNIFICANT, t-statistic =  -2.16  and p-value =  0.0312\n",
      "t-test with SIGNIFICANT, t-statistic =  -2.28  and p-value =  0.0227\n",
      "t-test with SIGNIFICANT, t-statistic =  3.23  and p-value =  0.0013\n",
      "t-test with SIGNIFICANT, t-statistic =  2.21  and p-value =  0.0271\n",
      "t-test with SIGNIFICANT, t-statistic =  2.32  and p-value =  0.0204\n",
      "t-test with SIGNIFICANT, t-statistic =  3.31  and p-value =  0.0009\n",
      "t-test with SIGNIFICANT, t-statistic =  2.02  and p-value =  0.0437\n",
      "t-test with SIGNIFICANT, t-statistic =  2.87  and p-value =  0.0041\n",
      "t-test with SIGNIFICANT, t-statistic =  2.62  and p-value =  0.0087\n",
      "t-test with SIGNIFICANT, t-statistic =  2.68  and p-value =  0.0074\n",
      "t-test with SIGNIFICANT, t-statistic =  3.71  and p-value =  0.0002\n",
      "t-test with SIGNIFICANT, t-statistic =  1.98  and p-value =  0.0478\n",
      "t-test with SIGNIFICANT, t-statistic =  2.42  and p-value =  0.0155\n",
      "t-test with SIGNIFICANT, t-statistic =  -1.98  and p-value =  0.0478\n",
      "t-test with SIGNIFICANT, t-statistic =  -2.23  and p-value =  0.0262\n",
      "t-test with SIGNIFICANT, t-statistic =  2.46  and p-value =  0.0139\n",
      "t-test with SIGNIFICANT, t-statistic =  -2.02  and p-value =  0.0437\n",
      "t-test with SIGNIFICANT, t-statistic =  -2.42  and p-value =  0.0155\n",
      "t-test with SIGNIFICANT, t-statistic =  -2.68  and p-value =  0.0074\n",
      "t-test with SIGNIFICANT, t-statistic =  2.03  and p-value =  0.0424\n",
      "t-test with SIGNIFICANT, t-statistic =  2.9  and p-value =  0.0037\n",
      "t-test with SIGNIFICANT, t-statistic =  2.29  and p-value =  0.0218\n",
      "t-test with SIGNIFICANT, t-statistic =  2.29  and p-value =  0.0221\n",
      "t-test with SIGNIFICANT, t-statistic =  3.02  and p-value =  0.0025\n",
      "t-test with SIGNIFICANT, t-statistic =  3.99  and p-value =  0.0001\n",
      "t-test with SIGNIFICANT, t-statistic =  2.23  and p-value =  0.0262\n",
      "t-test with SIGNIFICANT, t-statistic =  2.68  and p-value =  0.0074\n",
      "t-test with SIGNIFICANT, t-statistic =  2.16  and p-value =  0.0312\n",
      "t-test with SIGNIFICANT, t-statistic =  2.28  and p-value =  0.0227\n",
      "\n",
      "Number of falsely significant tests =  44\n"
     ]
    }
   ],
   "source": [
    "signifiance_level = 0.05\n",
    "def find_significant(p_values, ttest_results, signifiance_level):\n",
    "    n_cases = 0\n",
    "    for i in range(len(p_values)):\n",
    "        if(p_values[i] < signifiance_level): \n",
    "            n_cases += 1\n",
    "            print('t-test with SIGNIFICANT, t-statistic = ', round(ttest_results[i],2), ' and p-value = ', round(p_values[i],4))\n",
    "    print('\\nNumber of falsely significant tests = ', n_cases)        \n",
    "find_significant(p_values, ttest_results, signifiance_level)        "
   ]
  },
  {
   "cell_type": "markdown",
   "metadata": {},
   "source": [
    "Notice the large number of apparently significant tests. Do you trust these results to show any important relationships in the data? \n",
    "\n",
    "Can the Bonforoni correction help? Let's give it a try?"
   ]
  },
  {
   "cell_type": "code",
   "execution_count": 12,
   "metadata": {},
   "outputs": [
    {
     "name": "stdout",
     "output_type": "stream",
     "text": [
      "With Bonforoni correction the significance level is now =  0.00013157894736842105\n",
      "t-test with SIGNIFICANT, t-statistic =  -3.99  and p-value =  0.0001\n",
      "t-test with SIGNIFICANT, t-statistic =  3.99  and p-value =  0.0001\n",
      "\n",
      "Number of falsely significant tests =  2\n"
     ]
    }
   ],
   "source": [
    "signifiance_bonforoni = signifiance_level/380.0\n",
    "print('With Bonforoni correction the significance level is now = ', signifiance_bonforoni)\n",
    "find_significant(p_values, ttest_results, signifiance_bonforoni)  "
   ]
  },
  {
   "cell_type": "markdown",
   "metadata": {},
   "source": [
    "Even with the Bonforoni correction we have some false significance tests, if only just barely!\n",
    "\n",
    "But, can we detect small effect with Bonforoni correction?"
   ]
  },
  {
   "cell_type": "code",
   "execution_count": 13,
   "metadata": {},
   "outputs": [
    {
     "data": {
      "text/plain": [
       "Ttest_indResult(statistic=array([-2.49553488]), pvalue=array([0.01265684]))"
      ]
     },
     "execution_count": 13,
     "metadata": {},
     "output_type": "execute_result"
    }
   ],
   "source": [
    "nr.seed(567)\n",
    "ttest_ind(normal_vars[:,0], nr.normal(loc = 0.01, size=(1000,1)))"
   ]
  },
  {
   "cell_type": "markdown",
   "metadata": {},
   "source": [
    "Would ANOVA work better? Let's give it a try for the first 10 columns of the data frame."
   ]
  },
  {
   "cell_type": "code",
   "execution_count": 14,
   "metadata": {},
   "outputs": [
    {
     "data": {
      "text/plain": [
       "F_onewayResult(statistic=2.143527277355356, pvalue=0.022915451627654522)"
      ]
     },
     "execution_count": 14,
     "metadata": {},
     "output_type": "execute_result"
    }
   ],
   "source": [
    "f_oneway(normal_vars[:,0],normal_vars[:,1],normal_vars[:,2],normal_vars[:,3],normal_vars[:,4],normal_vars[:,5],normal_vars[:,6],normal_vars[:,7],normal_vars[:,8],normal_vars[:,9])"
   ]
  },
  {
   "cell_type": "code",
   "execution_count": null,
   "metadata": {},
   "outputs": [],
   "source": []
  }
 ],
 "metadata": {
  "kernelspec": {
   "display_name": "Python 3",
   "language": "python",
   "name": "python3"
  },
  "language_info": {
   "codemirror_mode": {
    "name": "ipython",
    "version": 3
   },
   "file_extension": ".py",
   "mimetype": "text/x-python",
   "name": "python",
   "nbconvert_exporter": "python",
   "pygments_lexer": "ipython3",
   "version": "3.7.3"
  }
 },
 "nbformat": 4,
 "nbformat_minor": 2
}
