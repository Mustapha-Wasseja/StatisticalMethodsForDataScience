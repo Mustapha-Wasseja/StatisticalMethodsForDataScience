{
 "cells": [
  {
   "cell_type": "code",
   "execution_count": null,
   "metadata": {},
   "outputs": [],
   "source": [
    "import numpy as np\n",
    "import numpy.random as nr\n",
    "from scipy.stats import truncnorm\n",
    "import statsmodels.api as sm\n",
    "import pandas as pd\n",
    "\n",
    "## matplotlib with display of graphs inline\n",
    "import matplotlib.pyplot as plt\n",
    "import seaborn as sns\n",
    "#matplotlib inline"
   ]
  },
  {
   "cell_type": "code",
   "execution_count": null,
   "metadata": {},
   "outputs": [],
   "source": [
    "## Create data set as multivariate Normal\n",
    "covariance = np.array([[1.0,0.7,0.7,0.0],\n",
    "                      [0.7,1.0,0.6,0.7],\n",
    "                      [0.7,0.6,1.0,0.2],\n",
    "                      [0.0,0.7,0.2,1.0]])\n",
    "effect_data = pd.DataFrame(nr.multivariate_normal(mean=[3.0,2.0,2.0,2.0], cov=covariance, size=500),\n",
    "                           columns=['Fan','TimePlaying','SocialMedia','GameFamilarity'])\n",
    "\n",
    "## Truncate values to range 0.0 <= x <= 10.0\n",
    "effect_data[effect_data < 0.0] = 0.0\n",
    "effect_data[effect_data > 10.0] = 10.0"
   ]
  },
  {
   "cell_type": "code",
   "execution_count": null,
   "metadata": {},
   "outputs": [],
   "source": [
    " ## Square the values of TimePlaying to give positive skew\n",
    "effect_data['TimePlaying'] = np.square(effect_data['TimePlaying'])\n",
    "\n",
    "## And round all values to 2 decimal places\n",
    "effect_data = effect_data.round(decimals=2)\n",
    "effect_data"
   ]
  },
  {
   "cell_type": "code",
   "execution_count": null,
   "metadata": {},
   "outputs": [],
   "source": [
    "social_time_model = sm.OLS(effect_data['SocialMedia'],effect_data['TimePlaying']).fit()\n",
    "social_time_model.summary()"
   ]
  },
  {
   "cell_type": "code",
   "execution_count": null,
   "metadata": {},
   "outputs": [],
   "source": [
    "social_time_fan_model = sm.OLS(effect_data['SocialMedia'],effect_data[['TimePlaying','Fan']]).fit()\n",
    "social_time_fan_model.summary()"
   ]
  },
  {
   "cell_type": "code",
   "execution_count": null,
   "metadata": {},
   "outputs": [],
   "source": [
    "social_time_familarity_model = sm.OLS(effect_data['SocialMedia'],effect_data[['TimePlaying','GameFamilarity']]).fit()\n",
    "social_time_familarity_model.summary()"
   ]
  },
  {
   "cell_type": "code",
   "execution_count": null,
   "metadata": {},
   "outputs": [],
   "source": [
    "social_fan_model = sm.OLS(effect_data['SocialMedia'],effect_data[['Fan']]).fit()\n",
    "social_fan_model.summary()"
   ]
  },
  {
   "cell_type": "code",
   "execution_count": null,
   "metadata": {},
   "outputs": [],
   "source": []
  }
 ],
 "metadata": {
  "kernelspec": {
   "display_name": "Python 3",
   "language": "python",
   "name": "python3"
  },
  "language_info": {
   "codemirror_mode": {
    "name": "ipython",
    "version": 3
   },
   "file_extension": ".py",
   "mimetype": "text/x-python",
   "name": "python",
   "nbconvert_exporter": "python",
   "pygments_lexer": "ipython3",
   "version": "3.7.3"
  }
 },
 "nbformat": 4,
 "nbformat_minor": 2
}
