{
 "cells": [
  {
   "cell_type": "markdown",
   "metadata": {},
   "source": [
    "# Lab: Factorial Experiments\n",
    "\n",
    "In this lab you will explore how an experiment with multiple factors can be designed and the results explored. Specifically, you will work with a data containing **two independent factors**, if the player identifies with a character, and if the game is action or story driven. These relationships will be explored using linear models.\n",
    "\n",
    "To begin, load the packages you will need by executing the code in the cell below. "
   ]
  },
  {
   "cell_type": "code",
   "execution_count": null,
   "metadata": {},
   "outputs": [],
   "source": [
    "import numpy as np\n",
    "import numpy.random as nr\n",
    "from scipy.stats import truncnorm\n",
    "import statsmodels.api as sm\n",
    "import statsmodels.formula.api as smf\n",
    "import pandas as pd\n",
    "\n",
    "## matplotlib with display of graphs inline\n",
    "import matplotlib.pyplot as plt\n",
    "import seaborn as sns\n",
    "#matplotlib inline"
   ]
  },
  {
   "cell_type": "markdown",
   "metadata": {},
   "source": [
    "The code in the cell below generates a simulated data set for **two levels** for each of the two factors. The level of player engagement is measured for each set of factor values. There are equal numbers of samples for each possible combination of factor values, resulting in a **balanced 2x2 design**. \n",
    "\n",
    "Execute the code in the cell below and examine the resulting data frame of the data simulated data. "
   ]
  },
  {
   "cell_type": "code",
   "execution_count": null,
   "metadata": {},
   "outputs": [],
   "source": [
    "## Create data frame with the data for the 4 cases of the factors\n",
    "nr.seed(453)\n",
    "n_cases = 120\n",
    "df1 = pd.DataFrame([np.rint(truncnorm.rvs(0.0, 10.0, loc=6.0, scale=2.0, size=n_cases)),\n",
    "                    ['IdentifyWithCharacter']*n_cases,\n",
    "                    ['ActionDrivenLevel']*n_cases]).transpose()\n",
    "df2 = pd.DataFrame([np.rint(truncnorm.rvs(0.0, 10.0, loc=6.0, scale=2.0, size=n_cases)),\n",
    "                    ['DontIdentifyWithCharacter']*n_cases,\n",
    "                    ['ActionDrivenLevel']*n_cases]).transpose()\n",
    "df3 = pd.DataFrame([np.rint(truncnorm.rvs(0.0, 10.0, loc=8.0, scale=2.0, size=n_cases)),\n",
    "                    ['IdentifyWithCharacter']*n_cases,\n",
    "                    ['StoryDrivenLevel']*n_cases]).transpose()\n",
    "df4 = pd.DataFrame([np.rint(truncnorm.rvs(0.0, 10.0, loc=3.0, scale=2.0, size=n_cases)),\n",
    "                    ['DontIdentifyWithCharacter']*n_cases,\n",
    "                    ['StoryDrivenLevel']*n_cases]).transpose()\n",
    "\n",
    "factor_data = pd.concat([df1,df2,df3,df4])\n",
    "factor_data.columns = ['Engagement_Of_Game','Identification_Level','Story_Driven_Level']\n",
    "factor_data"
   ]
  },
  {
   "cell_type": "markdown",
   "metadata": {},
   "source": [
    "You can gain some understanding of these data by displaying a plot to show the relationship between the Engagement and the levels of the two factors. The code in the cell below displays just such a plot. Execute this code and examine the results. "
   ]
  },
  {
   "cell_type": "code",
   "execution_count": null,
   "metadata": {},
   "outputs": [],
   "source": [
    "fig, ax = plt.subplots(figsize=(9,8))\n",
    "sns.boxplot(x='Story_Driven_Level', \n",
    "            y='Engagement_Of_Game', \n",
    "            hue='Identification_Level', \n",
    "            data=factor_data,\n",
    "            notch=True,\n",
    "            ax=ax)\n",
    "sns.swarmplot(x='Story_Driven_Level', \n",
    "              y='Engagement_Of_Game', \n",
    "              hue='Identification_Level',\n",
    "              data=factor_data, \n",
    "              color=\"0.5\", ax=ax)"
   ]
  },
  {
   "cell_type": "markdown",
   "metadata": {},
   "source": [
    "Notice the following about in the diagram. Box plots of the engagement show these relationship with respect to how the story is driven. Further, the hue of the boxes and the swarm plot shows the values of engagement for the different levels of identification with the character. \n",
    "\n",
    "Let's investigate the relationship of these variables using a linear model. From the chart above the driver of the story appears to be a significant factor. For the story driven game, the idendification with a character seems to be an important factor. The code in the cell below computes a linear model of Engagement_Of_Game by Story_Driven_Level and Indentification_Level, and displays a summary. Execute this code and examine the results. "
   ]
  },
  {
   "cell_type": "code",
   "execution_count": null,
   "metadata": {},
   "outputs": [],
   "source": [
    "factor_data['Engagement_Of_Game'] = factor_data['Engagement_Of_Game'].astype(float)\n",
    "ols_mod = smf.ols(formula='Engagement_Of_Game ~ C(Story_Driven_Level) + C(Identification_Level)', data=factor_data)\n",
    "factor_model = ols_mod.fit()\n",
    "factor_model.summary()"
   ]
  },
  {
   "cell_type": "markdown",
   "metadata": {},
   "source": [
    "This model does not appear to fit the model very well. The R-squared value is rather small.  \n",
    "\n",
    "It is likely that there is an **interaction term**. To test this idea create code including the interaction term in the cell below. Execute your code and examine the summary of the model.\n",
    "\n",
    "> Note: In the R formula language, the $*$ operator expands to all first order terms plus all second order interaction terms. For example, if $a:b$ is the interaction term, the expansion can be writen, $a*b = a + b + a:b$."
   ]
  },
  {
   "cell_type": "code",
   "execution_count": null,
   "metadata": {},
   "outputs": [],
   "source": []
  },
  {
   "cell_type": "markdown",
   "metadata": {},
   "source": [
    "Which effects have large coefficients? What does this observation tell you about the importance of the interaction term?"
   ]
  },
  {
   "cell_type": "markdown",
   "metadata": {},
   "source": [
    "##### Copyright 2020, Stephen F. Elston. All rights reserved."
   ]
  },
  {
   "cell_type": "code",
   "execution_count": null,
   "metadata": {},
   "outputs": [],
   "source": []
  }
 ],
 "metadata": {
  "kernelspec": {
   "display_name": "Python 3",
   "language": "python",
   "name": "python3"
  },
  "language_info": {
   "codemirror_mode": {
    "name": "ipython",
    "version": 3
   },
   "file_extension": ".py",
   "mimetype": "text/x-python",
   "name": "python",
   "nbconvert_exporter": "python",
   "pygments_lexer": "ipython3",
   "version": "3.7.3"
  }
 },
 "nbformat": 4,
 "nbformat_minor": 2
}
