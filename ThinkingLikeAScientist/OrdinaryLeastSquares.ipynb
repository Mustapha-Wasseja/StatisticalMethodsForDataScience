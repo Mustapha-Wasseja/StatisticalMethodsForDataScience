{
 "cells": [
  {
   "cell_type": "markdown",
   "metadata": {},
   "source": [
    "# Thinking Like A Scientist\n",
    "\n",
    "## Developing Understanding from Data\n",
    "\n",
    "### Tom Carpenter and Steve Elston"
   ]
  },
  {
   "cell_type": "code",
   "execution_count": 1,
   "metadata": {},
   "outputs": [],
   "source": [
    "import pandas as pd\n",
    "import numpy as np\n",
    "import numpy.random as nr\n",
    "import statsmodels.api as sm\n",
    "from statsmodels.sandbox.regression.predstd import wls_prediction_std\n",
    "\n",
    "import matplotlib.pyplot as plt\n",
    "#matplotlib inline"
   ]
  },
  {
   "cell_type": "markdown",
   "metadata": {},
   "source": [
    "### Exercise 1.1 - Improving chance of wining Nobel prize\n",
    "\n",
    "Is there anything you can do to improve your chances of wining a Nobel Prize? Let's have a look at the data and decide if this makes any sense?\n",
    "\n",
    "To get started, execute the code in the cell below and examine the first 10 rows of the data frame."
   ]
  },
  {
   "cell_type": "code",
   "execution_count": 2,
   "metadata": {},
   "outputs": [
    {
     "name": "stdout",
     "output_type": "stream",
     "text": [
      "Dimensions of the data frame =  (19, 5)\n"
     ]
    },
    {
     "data": {
      "text/html": [
       "<div>\n",
       "<style scoped>\n",
       "    .dataframe tbody tr th:only-of-type {\n",
       "        vertical-align: middle;\n",
       "    }\n",
       "\n",
       "    .dataframe tbody tr th {\n",
       "        vertical-align: top;\n",
       "    }\n",
       "\n",
       "    .dataframe thead th {\n",
       "        text-align: right;\n",
       "    }\n",
       "</style>\n",
       "<table border=\"1\" class=\"dataframe\">\n",
       "  <thead>\n",
       "    <tr style=\"text-align: right;\">\n",
       "      <th></th>\n",
       "      <th>Country</th>\n",
       "      <th>Laureates10_million</th>\n",
       "      <th>Chocolate</th>\n",
       "      <th>Nobellaureates</th>\n",
       "      <th>Population</th>\n",
       "    </tr>\n",
       "  </thead>\n",
       "  <tbody>\n",
       "    <tr>\n",
       "      <th>0</th>\n",
       "      <td>Switzerland</td>\n",
       "      <td>32.771</td>\n",
       "      <td>8.8</td>\n",
       "      <td>28</td>\n",
       "      <td>8544034</td>\n",
       "    </tr>\n",
       "    <tr>\n",
       "      <th>1</th>\n",
       "      <td>Sweden</td>\n",
       "      <td>30.052</td>\n",
       "      <td>8.1</td>\n",
       "      <td>30</td>\n",
       "      <td>9982709</td>\n",
       "    </tr>\n",
       "    <tr>\n",
       "      <th>2</th>\n",
       "      <td>Austria</td>\n",
       "      <td>25.138</td>\n",
       "      <td>7.9</td>\n",
       "      <td>22</td>\n",
       "      <td>8751820</td>\n",
       "    </tr>\n",
       "    <tr>\n",
       "      <th>3</th>\n",
       "      <td>Denmark</td>\n",
       "      <td>24.329</td>\n",
       "      <td>7.9</td>\n",
       "      <td>14</td>\n",
       "      <td>5754356</td>\n",
       "    </tr>\n",
       "    <tr>\n",
       "      <th>4</th>\n",
       "      <td>Norway</td>\n",
       "      <td>24.284</td>\n",
       "      <td>6.6</td>\n",
       "      <td>13</td>\n",
       "      <td>5353363</td>\n",
       "    </tr>\n",
       "    <tr>\n",
       "      <th>5</th>\n",
       "      <td>Ireland</td>\n",
       "      <td>14.572</td>\n",
       "      <td>5.8</td>\n",
       "      <td>7</td>\n",
       "      <td>4803748</td>\n",
       "    </tr>\n",
       "    <tr>\n",
       "      <th>6</th>\n",
       "      <td>Germany</td>\n",
       "      <td>13.245</td>\n",
       "      <td>5.7</td>\n",
       "      <td>109</td>\n",
       "      <td>82293457</td>\n",
       "    </tr>\n",
       "    <tr>\n",
       "      <th>7</th>\n",
       "      <td>United States</td>\n",
       "      <td>11.721</td>\n",
       "      <td>5.6</td>\n",
       "      <td>383</td>\n",
       "      <td>326766748</td>\n",
       "    </tr>\n",
       "    <tr>\n",
       "      <th>8</th>\n",
       "      <td>France</td>\n",
       "      <td>10.664</td>\n",
       "      <td>5.4</td>\n",
       "      <td>70</td>\n",
       "      <td>65233271</td>\n",
       "    </tr>\n",
       "    <tr>\n",
       "      <th>9</th>\n",
       "      <td>Finland</td>\n",
       "      <td>9.021</td>\n",
       "      <td>5.0</td>\n",
       "      <td>5</td>\n",
       "      <td>5542517</td>\n",
       "    </tr>\n",
       "  </tbody>\n",
       "</table>\n",
       "</div>"
      ],
      "text/plain": [
       "         Country  Laureates10_million  Chocolate  Nobellaureates  Population\n",
       "0    Switzerland               32.771        8.8              28     8544034\n",
       "1         Sweden               30.052        8.1              30     9982709\n",
       "2        Austria               25.138        7.9              22     8751820\n",
       "3        Denmark               24.329        7.9              14     5754356\n",
       "4         Norway               24.284        6.6              13     5353363\n",
       "5        Ireland               14.572        5.8               7     4803748\n",
       "6        Germany               13.245        5.7             109    82293457\n",
       "7  United States               11.721        5.6             383   326766748\n",
       "8         France               10.664        5.4              70    65233271\n",
       "9        Finland                9.021        5.0               5     5542517"
      ]
     },
     "execution_count": 2,
     "metadata": {},
     "output_type": "execute_result"
    }
   ],
   "source": [
    "Nobel_chocolate = pd.read_csv('nobel-chocolate.csv', thousands=',')\n",
    "print('Dimensions of the data frame = ', Nobel_chocolate.shape)\n",
    "Nobel_chocolate.head(10)"
   ]
  },
  {
   "cell_type": "markdown",
   "metadata": {},
   "source": [
    "To get a feel for these data, create a scatter plot of Nobel prizes vs. chocolate consumption by executing the code in the cell below. "
   ]
  },
  {
   "cell_type": "code",
   "execution_count": 3,
   "metadata": {},
   "outputs": [
    {
     "data": {
      "text/plain": [
       "Text(0.5, 1.0, 'Nobel Prizes vs. Chocolate Consumption')"
      ]
     },
     "execution_count": 3,
     "metadata": {},
     "output_type": "execute_result"
    },
    {
     "data": {
      "image/png": "[encoded data removed]",
      "text/plain": [
       "<Figure size 576x576 with 1 Axes>"
      ]
     },
     "metadata": {
      "needs_background": "light"
     },
     "output_type": "display_data"
    }
   ],
   "source": [
    "## Define a figure and axes and make a scatter plot\n",
    "fig = plt.figure(figsize=(8, 8)) # define plot area\n",
    "ax = fig.gca() # define axis \n",
    "Nobel_chocolate.plot.scatter('Chocolate', 'Laureates10_million', ax = ax) # Scatter plot\n",
    "ax.set_title('Nobel Prizes vs. Chocolate Consumption') # Give the plot a main title"
   ]
  },
  {
   "cell_type": "markdown",
   "metadata": {},
   "source": [
    "There seems to be one outlier in these data. The population of one country eats almost no chocolate and has low chances of an individual winning a Nobel prize. To find out which country, execute the code in the cell below."
   ]
  },
  {
   "cell_type": "code",
   "execution_count": 4,
   "metadata": {},
   "outputs": [
    {
     "name": "stdout",
     "output_type": "stream",
     "text": [
      "   Country  Laureates10_million  Chocolate  Nobellaureates  Population\n",
      "18   China                0.064        0.1               9  1415045928\n"
     ]
    }
   ],
   "source": [
    "min_row = Nobel_chocolate[Nobel_chocolate['Laureates10_million'].min() == Nobel_chocolate['Laureates10_million']]\n",
    "print(min_row)"
   ]
  },
  {
   "cell_type": "markdown",
   "metadata": {},
   "source": [
    "It appears that the large population of China lowers the chance of any one individual winning a Nobel prize. With all due respect to China, we need to remove this outlier from our dataset. Execute the code in the cell below to remove this row. "
   ]
  },
  {
   "cell_type": "code",
   "execution_count": 5,
   "metadata": {},
   "outputs": [],
   "source": [
    "Nobel_chocolate.drop(min_row.index[0], axis = 0, inplace = True)"
   ]
  },
  {
   "cell_type": "markdown",
   "metadata": {},
   "source": [
    "As a next step, log transform the number of Nobel prizes and plot the results by executing the code in the cell below."
   ]
  },
  {
   "cell_type": "code",
   "execution_count": 6,
   "metadata": {},
   "outputs": [
    {
     "data": {
      "text/plain": [
       "Text(0, 0.5, 'Log Nobel Prizes per 10 Million People')"
      ]
     },
     "execution_count": 6,
     "metadata": {},
     "output_type": "execute_result"
    },
    {
     "data": {
      "image/png": "[encoded data removed]",
      "text/plain": [
       "<Figure size 648x576 with 1 Axes>"
      ]
     },
     "metadata": {
      "needs_background": "light"
     },
     "output_type": "display_data"
    }
   ],
   "source": [
    "Nobel_chocolate['log_Nobel'] = np.log(Nobel_chocolate.Laureates10_million)\n",
    "\n",
    "## PLot the log Nobel vs. chocolate\n",
    "fig = plt.figure(figsize=(9, 8)) # define plot area\n",
    "ax = fig.gca() # define axis \n",
    "Nobel_chocolate.plot.scatter('Chocolate', 'log_Nobel', ax = ax) # Scatter plot\n",
    "ax.set_title('Log Nobel Prizes vs. Chocolate Consumption') # Give the plot a main title\n",
    "ax.set_xlabel('Chocolate Consumption') # Set text for the x axis\n",
    "ax.set_ylabel('Log Nobel Prizes per 10 Million People')# Set text for y axis"
   ]
  },
  {
   "cell_type": "markdown",
   "metadata": {},
   "source": [
    "Wow! It really looks like anyone wanting to win a Nobel prize should eat as much chocolate as possible! But, do you think this relationship is really meaningful? Does eating chocolate really have anything to do with winning a Nobel prize or is there a latent variable here? "
   ]
  },
  {
   "cell_type": "markdown",
   "metadata": {},
   "source": [
    "### Exercise 1.2 - Regression of Nobel prizes vs. chocolate consumption\n",
    "\n",
    "Can we find a model for chance of winning a Nobel prize vs. chocolate consumption."
   ]
  },
  {
   "cell_type": "code",
   "execution_count": 7,
   "metadata": {},
   "outputs": [
    {
     "name": "stdout",
     "output_type": "stream",
     "text": [
      "                                 OLS Regression Results                                \n",
      "=======================================================================================\n",
      "Dep. Variable:                      y   R-squared (uncentered):                   0.982\n",
      "Model:                            OLS   Adj. R-squared (uncentered):              0.980\n",
      "Method:                 Least Squares   F-statistic:                              905.1\n",
      "Date:                Tue, 31 Dec 2019   Prob (F-statistic):                    3.48e-16\n",
      "Time:                        11:05:16   Log-Likelihood:                         -5.1724\n",
      "No. Observations:                  18   AIC:                                      12.34\n",
      "Df Residuals:                      17   BIC:                                      13.24\n",
      "Df Model:                           1                                                  \n",
      "Covariance Type:            nonrobust                                                  \n",
      "==============================================================================\n",
      "                 coef    std err          t      P>|t|      [0.025      0.975]\n",
      "------------------------------------------------------------------------------\n",
      "x1             0.4082      0.014     30.085      0.000       0.380       0.437\n",
      "==============================================================================\n",
      "Omnibus:                       10.353   Durbin-Watson:                   1.138\n",
      "Prob(Omnibus):                  0.006   Jarque-Bera (JB):                7.387\n",
      "Skew:                          -1.258   Prob(JB):                       0.0249\n",
      "Kurtosis:                       4.876   Cond. No.                         1.00\n",
      "==============================================================================\n",
      "\n",
      "Warnings:\n",
      "[1] Standard Errors assume that the covariance matrix of the errors is correctly specified.\n"
     ]
    },
    {
     "name": "stderr",
     "output_type": "stream",
     "text": [
      "C:\\Users\\StevePC2\\Anaconda3\\lib\\site-packages\\scipy\\stats\\stats.py:1416: UserWarning: kurtosistest only valid for n>=20 ... continuing anyway, n=18\n",
      "  \"anyway, n=%i\" % int(n))\n"
     ]
    }
   ],
   "source": [
    "y = np.array(Nobel_chocolate['log_Nobel'])\n",
    "X = np.array(Nobel_chocolate['Chocolate'])\n",
    "Nobel_OLS_model = sm.OLS(y, X).fit()\n",
    "print(Nobel_OLS_model.summary())"
   ]
  },
  {
   "cell_type": "code",
   "execution_count": 8,
   "metadata": {},
   "outputs": [
    {
     "data": {
      "text/plain": [
       "Text(0, 0.5, 'Log Nobel Prizes per 10 Million People')"
      ]
     },
     "execution_count": 8,
     "metadata": {},
     "output_type": "execute_result"
    },
    {
     "data": {
      "image/png": "[encoded data removed]",
      "text/plain": [
       "<Figure size 648x576 with 1 Axes>"
      ]
     },
     "metadata": {
      "needs_background": "light"
     },
     "output_type": "display_data"
    }
   ],
   "source": [
    "## Find the upper and lower confidence intervals for the OLS regression model\n",
    "prediction_std, conf_interval_l, conf_interval_u = wls_prediction_std(Nobel_OLS_model)\n",
    "\n",
    "## Plot the model predictions with the confidence intervals\n",
    "fig, ax = plt.subplots(figsize=(9,8))\n",
    "ax.plot(Nobel_chocolate['Chocolate'], y, 'o', label=\"data\")\n",
    "ax.plot(Nobel_chocolate['Chocolate'], Nobel_OLS_model.fittedvalues, 'r', label=\"OLS Fit\")\n",
    "ax.plot(Nobel_chocolate['Chocolate'], conf_interval_u, 'r--', label='Confidence Interval')\n",
    "ax.plot(Nobel_chocolate['Chocolate'], conf_interval_l, 'r--')\n",
    "ax.legend(loc='best')\n",
    "ax.set_title('OLS model with Confidence Intervals\\n Log Nobel Prizes vs. Chocolate Consumption') # Give the plot a main title\n",
    "ax.set_xlabel('Chocolate Consumption') # Set text for the x axis\n",
    "ax.set_ylabel('Log Nobel Prizes per 10 Million People') # Set text for y axis"
   ]
  },
  {
   "cell_type": "markdown",
   "metadata": {},
   "source": [
    "### Example 1.3 - Is there a latent variable?\n",
    "\n",
    "Perhaps, chocolate consumption is not the best predictor of Nobel prizes. Maybe GDP per person is a better predictor. \n",
    "\n",
    "Load the dataset containing the country name and GDP in billions of US dollars."
   ]
  },
  {
   "cell_type": "code",
   "execution_count": 9,
   "metadata": {},
   "outputs": [
    {
     "name": "stdout",
     "output_type": "stream",
     "text": [
      "           Country  GDP_billions\n",
      "0      Switzerland           679\n",
      "1           Sweden           538\n",
      "2          Austria           417\n",
      "3          Denmark           325\n",
      "4           Norway           399\n",
      "5          Ireland           334\n",
      "6          Germany          3677\n",
      "7    United States         19390\n",
      "8           France          2583\n",
      "9          Finland           252\n",
      "10         Belgium           493\n",
      "11     New Zealand           206\n",
      "12          Poland           525\n",
      "13       Australia          1323\n",
      "14  Czech Republic           216\n",
      "15           Japan          4872\n",
      "16    South Africa           349\n",
      "17          Russia          1578\n"
     ]
    }
   ],
   "source": [
    "GDP = pd.read_csv('GDP_Country.csv')\n",
    "print(GDP)"
   ]
  },
  {
   "cell_type": "code",
   "execution_count": 10,
   "metadata": {},
   "outputs": [
    {
     "data": {
      "text/html": [
       "<div>\n",
       "<style scoped>\n",
       "    .dataframe tbody tr th:only-of-type {\n",
       "        vertical-align: middle;\n",
       "    }\n",
       "\n",
       "    .dataframe tbody tr th {\n",
       "        vertical-align: top;\n",
       "    }\n",
       "\n",
       "    .dataframe thead th {\n",
       "        text-align: right;\n",
       "    }\n",
       "</style>\n",
       "<table border=\"1\" class=\"dataframe\">\n",
       "  <thead>\n",
       "    <tr style=\"text-align: right;\">\n",
       "      <th></th>\n",
       "      <th>Country</th>\n",
       "      <th>Laureates10_million</th>\n",
       "      <th>Chocolate</th>\n",
       "      <th>Nobellaureates</th>\n",
       "      <th>Population</th>\n",
       "      <th>log_Nobel</th>\n",
       "      <th>GDP_billions</th>\n",
       "      <th>GDP_person_thousands</th>\n",
       "    </tr>\n",
       "  </thead>\n",
       "  <tbody>\n",
       "    <tr>\n",
       "      <th>0</th>\n",
       "      <td>Switzerland</td>\n",
       "      <td>32.771</td>\n",
       "      <td>8.8</td>\n",
       "      <td>28</td>\n",
       "      <td>8544034</td>\n",
       "      <td>3.489544</td>\n",
       "      <td>679</td>\n",
       "      <td>79.470658</td>\n",
       "    </tr>\n",
       "    <tr>\n",
       "      <th>1</th>\n",
       "      <td>Sweden</td>\n",
       "      <td>30.052</td>\n",
       "      <td>8.1</td>\n",
       "      <td>30</td>\n",
       "      <td>9982709</td>\n",
       "      <td>3.402929</td>\n",
       "      <td>538</td>\n",
       "      <td>53.893187</td>\n",
       "    </tr>\n",
       "    <tr>\n",
       "      <th>2</th>\n",
       "      <td>Austria</td>\n",
       "      <td>25.138</td>\n",
       "      <td>7.9</td>\n",
       "      <td>22</td>\n",
       "      <td>8751820</td>\n",
       "      <td>3.224381</td>\n",
       "      <td>417</td>\n",
       "      <td>47.647232</td>\n",
       "    </tr>\n",
       "    <tr>\n",
       "      <th>3</th>\n",
       "      <td>Denmark</td>\n",
       "      <td>24.329</td>\n",
       "      <td>7.9</td>\n",
       "      <td>14</td>\n",
       "      <td>5754356</td>\n",
       "      <td>3.191669</td>\n",
       "      <td>325</td>\n",
       "      <td>56.478953</td>\n",
       "    </tr>\n",
       "    <tr>\n",
       "      <th>4</th>\n",
       "      <td>Norway</td>\n",
       "      <td>24.284</td>\n",
       "      <td>6.6</td>\n",
       "      <td>13</td>\n",
       "      <td>5353363</td>\n",
       "      <td>3.189818</td>\n",
       "      <td>399</td>\n",
       "      <td>74.532588</td>\n",
       "    </tr>\n",
       "    <tr>\n",
       "      <th>5</th>\n",
       "      <td>Ireland</td>\n",
       "      <td>14.572</td>\n",
       "      <td>5.8</td>\n",
       "      <td>7</td>\n",
       "      <td>4803748</td>\n",
       "      <td>2.679102</td>\n",
       "      <td>334</td>\n",
       "      <td>69.529043</td>\n",
       "    </tr>\n",
       "    <tr>\n",
       "      <th>6</th>\n",
       "      <td>Germany</td>\n",
       "      <td>13.245</td>\n",
       "      <td>5.7</td>\n",
       "      <td>109</td>\n",
       "      <td>82293457</td>\n",
       "      <td>2.583620</td>\n",
       "      <td>3677</td>\n",
       "      <td>44.681560</td>\n",
       "    </tr>\n",
       "    <tr>\n",
       "      <th>7</th>\n",
       "      <td>United States</td>\n",
       "      <td>11.721</td>\n",
       "      <td>5.6</td>\n",
       "      <td>383</td>\n",
       "      <td>326766748</td>\n",
       "      <td>2.461382</td>\n",
       "      <td>19390</td>\n",
       "      <td>59.338963</td>\n",
       "    </tr>\n",
       "    <tr>\n",
       "      <th>8</th>\n",
       "      <td>France</td>\n",
       "      <td>10.664</td>\n",
       "      <td>5.4</td>\n",
       "      <td>70</td>\n",
       "      <td>65233271</td>\n",
       "      <td>2.366874</td>\n",
       "      <td>2583</td>\n",
       "      <td>39.596359</td>\n",
       "    </tr>\n",
       "    <tr>\n",
       "      <th>9</th>\n",
       "      <td>Finland</td>\n",
       "      <td>9.021</td>\n",
       "      <td>5.0</td>\n",
       "      <td>5</td>\n",
       "      <td>5542517</td>\n",
       "      <td>2.199555</td>\n",
       "      <td>252</td>\n",
       "      <td>45.466708</td>\n",
       "    </tr>\n",
       "    <tr>\n",
       "      <th>10</th>\n",
       "      <td>Belgium</td>\n",
       "      <td>8.697</td>\n",
       "      <td>4.9</td>\n",
       "      <td>10</td>\n",
       "      <td>11498519</td>\n",
       "      <td>2.162978</td>\n",
       "      <td>493</td>\n",
       "      <td>42.875087</td>\n",
       "    </tr>\n",
       "    <tr>\n",
       "      <th>11</th>\n",
       "      <td>New Zealand</td>\n",
       "      <td>6.316</td>\n",
       "      <td>4.9</td>\n",
       "      <td>3</td>\n",
       "      <td>4749598</td>\n",
       "      <td>1.843086</td>\n",
       "      <td>206</td>\n",
       "      <td>43.372092</td>\n",
       "    </tr>\n",
       "    <tr>\n",
       "      <th>12</th>\n",
       "      <td>Poland</td>\n",
       "      <td>4.986</td>\n",
       "      <td>4.9</td>\n",
       "      <td>19</td>\n",
       "      <td>38104832</td>\n",
       "      <td>1.606634</td>\n",
       "      <td>525</td>\n",
       "      <td>13.777780</td>\n",
       "    </tr>\n",
       "    <tr>\n",
       "      <th>13</th>\n",
       "      <td>Australia</td>\n",
       "      <td>4.844</td>\n",
       "      <td>4.8</td>\n",
       "      <td>12</td>\n",
       "      <td>24772247</td>\n",
       "      <td>1.577741</td>\n",
       "      <td>1323</td>\n",
       "      <td>53.406540</td>\n",
       "    </tr>\n",
       "    <tr>\n",
       "      <th>14</th>\n",
       "      <td>Czech Republic</td>\n",
       "      <td>4.706</td>\n",
       "      <td>4.4</td>\n",
       "      <td>5</td>\n",
       "      <td>10625250</td>\n",
       "      <td>1.548838</td>\n",
       "      <td>216</td>\n",
       "      <td>20.328933</td>\n",
       "    </tr>\n",
       "    <tr>\n",
       "      <th>15</th>\n",
       "      <td>Japan</td>\n",
       "      <td>2.202</td>\n",
       "      <td>4.3</td>\n",
       "      <td>28</td>\n",
       "      <td>127185332</td>\n",
       "      <td>0.789366</td>\n",
       "      <td>4872</td>\n",
       "      <td>38.306304</td>\n",
       "    </tr>\n",
       "    <tr>\n",
       "      <th>16</th>\n",
       "      <td>South Africa</td>\n",
       "      <td>1.742</td>\n",
       "      <td>1.2</td>\n",
       "      <td>10</td>\n",
       "      <td>57398421</td>\n",
       "      <td>0.555034</td>\n",
       "      <td>349</td>\n",
       "      <td>6.080307</td>\n",
       "    </tr>\n",
       "    <tr>\n",
       "      <th>17</th>\n",
       "      <td>Russia</td>\n",
       "      <td>1.598</td>\n",
       "      <td>0.9</td>\n",
       "      <td>23</td>\n",
       "      <td>143964709</td>\n",
       "      <td>0.468753</td>\n",
       "      <td>1578</td>\n",
       "      <td>10.961020</td>\n",
       "    </tr>\n",
       "  </tbody>\n",
       "</table>\n",
       "</div>"
      ],
      "text/plain": [
       "           Country  Laureates10_million  Chocolate  Nobellaureates  \\\n",
       "0      Switzerland               32.771        8.8              28   \n",
       "1           Sweden               30.052        8.1              30   \n",
       "2          Austria               25.138        7.9              22   \n",
       "3          Denmark               24.329        7.9              14   \n",
       "4           Norway               24.284        6.6              13   \n",
       "5          Ireland               14.572        5.8               7   \n",
       "6          Germany               13.245        5.7             109   \n",
       "7    United States               11.721        5.6             383   \n",
       "8           France               10.664        5.4              70   \n",
       "9          Finland                9.021        5.0               5   \n",
       "10         Belgium                8.697        4.9              10   \n",
       "11     New Zealand                6.316        4.9               3   \n",
       "12          Poland                4.986        4.9              19   \n",
       "13       Australia                4.844        4.8              12   \n",
       "14  Czech Republic                4.706        4.4               5   \n",
       "15           Japan                2.202        4.3              28   \n",
       "16    South Africa                1.742        1.2              10   \n",
       "17          Russia                1.598        0.9              23   \n",
       "\n",
       "    Population  log_Nobel  GDP_billions  GDP_person_thousands  \n",
       "0      8544034   3.489544           679             79.470658  \n",
       "1      9982709   3.402929           538             53.893187  \n",
       "2      8751820   3.224381           417             47.647232  \n",
       "3      5754356   3.191669           325             56.478953  \n",
       "4      5353363   3.189818           399             74.532588  \n",
       "5      4803748   2.679102           334             69.529043  \n",
       "6     82293457   2.583620          3677             44.681560  \n",
       "7    326766748   2.461382         19390             59.338963  \n",
       "8     65233271   2.366874          2583             39.596359  \n",
       "9      5542517   2.199555           252             45.466708  \n",
       "10    11498519   2.162978           493             42.875087  \n",
       "11     4749598   1.843086           206             43.372092  \n",
       "12    38104832   1.606634           525             13.777780  \n",
       "13    24772247   1.577741          1323             53.406540  \n",
       "14    10625250   1.548838           216             20.328933  \n",
       "15   127185332   0.789366          4872             38.306304  \n",
       "16    57398421   0.555034           349              6.080307  \n",
       "17   143964709   0.468753          1578             10.961020  "
      ]
     },
     "execution_count": 10,
     "metadata": {},
     "output_type": "execute_result"
    }
   ],
   "source": [
    "Nobel_chocolate = Nobel_chocolate.merge(right=GDP, how='left', left_on='Country', right_on='Country')\n",
    "Nobel_chocolate['GDP_person_thousands'] = 1000000 * np.divide(Nobel_chocolate.GDP_billions, Nobel_chocolate.Population)\n",
    "Nobel_chocolate"
   ]
  },
  {
   "cell_type": "code",
   "execution_count": 11,
   "metadata": {},
   "outputs": [
    {
     "data": {
      "text/plain": [
       "Text(0, 0.5, 'Log Nobel Prizes per 10 Million People')"
      ]
     },
     "execution_count": 11,
     "metadata": {},
     "output_type": "execute_result"
    },
    {
     "data": {
      "image/png": "[encoded data removed]",
      "text/plain": [
       "<Figure size 648x576 with 1 Axes>"
      ]
     },
     "metadata": {
      "needs_background": "light"
     },
     "output_type": "display_data"
    }
   ],
   "source": [
    "## PLot the log Nobel vs. GDP\n",
    "fig = plt.figure(figsize=(9, 8)) # define plot area\n",
    "ax = fig.gca() # define axis \n",
    "Nobel_chocolate.plot.scatter('GDP_person_thousands', 'log_Nobel', ax = ax) # Scatter plot\n",
    "ax.set_title('Log Nobel Prizes vs. GDP per person') # Give the plot a main title\n",
    "ax.set_xlabel('GDP per person') # Set text for the x axis\n",
    "ax.set_ylabel('Log Nobel Prizes per 10 Million People')# Set text for y axis"
   ]
  },
  {
   "cell_type": "code",
   "execution_count": 12,
   "metadata": {},
   "outputs": [
    {
     "name": "stdout",
     "output_type": "stream",
     "text": [
      "                                 OLS Regression Results                                \n",
      "=======================================================================================\n",
      "Dep. Variable:                      y   R-squared (uncentered):                   0.937\n",
      "Model:                            OLS   Adj. R-squared (uncentered):              0.933\n",
      "Method:                 Least Squares   F-statistic:                              252.0\n",
      "Date:                Tue, 31 Dec 2019   Prob (F-statistic):                    1.26e-11\n",
      "Time:                        11:05:18   Log-Likelihood:                         -16.262\n",
      "No. Observations:                  18   AIC:                                      34.52\n",
      "Df Residuals:                      17   BIC:                                      35.41\n",
      "Df Model:                           1                                                  \n",
      "Covariance Type:            nonrobust                                                  \n",
      "==============================================================================\n",
      "                 coef    std err          t      P>|t|      [0.025      0.975]\n",
      "------------------------------------------------------------------------------\n",
      "x1             0.0470      0.003     15.873      0.000       0.041       0.053\n",
      "==============================================================================\n",
      "Omnibus:                        0.787   Durbin-Watson:                   2.594\n",
      "Prob(Omnibus):                  0.675   Jarque-Bera (JB):                0.734\n",
      "Skew:                          -0.232   Prob(JB):                        0.693\n",
      "Kurtosis:                       2.126   Cond. No.                         1.00\n",
      "==============================================================================\n",
      "\n",
      "Warnings:\n",
      "[1] Standard Errors assume that the covariance matrix of the errors is correctly specified.\n"
     ]
    }
   ],
   "source": [
    "X = np.array(Nobel_chocolate['GDP_person_thousands'])\n",
    "Nobel_OLS_model_GDP = sm.OLS(y, X).fit()\n",
    "print(Nobel_OLS_model_GDP.summary())"
   ]
  },
  {
   "cell_type": "code",
   "execution_count": 13,
   "metadata": {},
   "outputs": [
    {
     "data": {
      "text/plain": [
       "Text(0, 0.5, 'Log Nobel Prizes per 10 Million People')"
      ]
     },
     "execution_count": 13,
     "metadata": {},
     "output_type": "execute_result"
    },
    {
     "data": {
      "image/png": "[encoded data removed]",
      "text/plain": [
       "<Figure size 648x576 with 1 Axes>"
      ]
     },
     "metadata": {
      "needs_background": "light"
     },
     "output_type": "display_data"
    }
   ],
   "source": [
    "## Find the upper and lower confidence intervals for the OLS regression model\n",
    "prediction_std, conf_interval_l, conf_interval_u = wls_prediction_std(Nobel_OLS_model_GDP)\n",
    "\n",
    "## Plot the model predictions with the confidence intervals\n",
    "fig, ax = plt.subplots(figsize=(9,8))\n",
    "ax.plot(Nobel_chocolate['GDP_person_thousands'], y, 'o', label=\"data\")\n",
    "ax.plot(Nobel_chocolate['GDP_person_thousands'], Nobel_OLS_model_GDP.fittedvalues, 'r', label=\"OLS Fit\")\n",
    "ax.plot(Nobel_chocolate['GDP_person_thousands'], conf_interval_u, 'r--', label='Confidence Interval')\n",
    "ax.plot(Nobel_chocolate['GDP_person_thousands'], conf_interval_l, 'r--')\n",
    "ax.legend(loc='best')\n",
    "ax.set_title('OLS model with Confidence Intervals\\n Log Nobel Prizes vs. GDP per person') # Give the plot a main title\n",
    "ax.set_xlabel('GDP per person in thousands') # Set text for the x axis\n",
    "ax.set_ylabel('Log Nobel Prizes per 10 Million People') # Set text for y axis"
   ]
  },
  {
   "cell_type": "markdown",
   "metadata": {},
   "source": [
    "### Exercise 1.4 - Is GDP a predictor of chocolate consumption?\n",
    "\n",
    "To gain some an additional insight, it is useful to determine if there is a relationship between GDP and chocolate consumption.   "
   ]
  },
  {
   "cell_type": "code",
   "execution_count": 14,
   "metadata": {},
   "outputs": [
    {
     "name": "stdout",
     "output_type": "stream",
     "text": [
      "                                 OLS Regression Results                                \n",
      "=======================================================================================\n",
      "Dep. Variable:                      y   R-squared (uncentered):                   0.933\n",
      "Model:                            OLS   Adj. R-squared (uncentered):              0.929\n",
      "Method:                 Least Squares   F-statistic:                              235.7\n",
      "Date:                Tue, 31 Dec 2019   Prob (F-statistic):                    2.14e-11\n",
      "Time:                        11:05:18   Log-Likelihood:                         -32.783\n",
      "No. Observations:                  18   AIC:                                      67.57\n",
      "Df Residuals:                      17   BIC:                                      68.46\n",
      "Df Model:                           1                                                  \n",
      "Covariance Type:            nonrobust                                                  \n",
      "==============================================================================\n",
      "                 coef    std err          t      P>|t|      [0.025      0.975]\n",
      "------------------------------------------------------------------------------\n",
      "x1             0.1139      0.007     15.352      0.000       0.098       0.130\n",
      "==============================================================================\n",
      "Omnibus:                        0.357   Durbin-Watson:                   2.065\n",
      "Prob(Omnibus):                  0.836   Jarque-Bera (JB):                0.484\n",
      "Skew:                           0.250   Prob(JB):                        0.785\n",
      "Kurtosis:                       2.371   Cond. No.                         1.00\n",
      "==============================================================================\n",
      "\n",
      "Warnings:\n",
      "[1] Standard Errors assume that the covariance matrix of the errors is correctly specified.\n"
     ]
    }
   ],
   "source": [
    "y = np.array(Nobel_chocolate['Chocolate'])\n",
    "X = np.array(Nobel_chocolate['GDP_person_thousands'])\n",
    "Chocolate_GDP_OLS_model = sm.OLS(y, X).fit()\n",
    "print(Chocolate_GDP_OLS_model.summary())"
   ]
  },
  {
   "cell_type": "code",
   "execution_count": 15,
   "metadata": {},
   "outputs": [
    {
     "data": {
      "text/plain": [
       "Text(0, 0.5, 'Choclate consumption')"
      ]
     },
     "execution_count": 15,
     "metadata": {},
     "output_type": "execute_result"
    },
    {
     "data": {
      "image/png": "[encoded data removed]",
      "text/plain": [
       "<Figure size 648x576 with 1 Axes>"
      ]
     },
     "metadata": {
      "needs_background": "light"
     },
     "output_type": "display_data"
    }
   ],
   "source": [
    "## Find the upper and lower confidence intervals for the OLS regression model\n",
    "prediction_std, conf_interval_l, conf_interval_u = wls_prediction_std(Chocolate_GDP_OLS_model)\n",
    "\n",
    "## Plot the model predictions with the confidence intervals\n",
    "fig, ax = plt.subplots(figsize=(9,8))\n",
    "ax.plot(Nobel_chocolate['GDP_person_thousands'], y, 'o', label=\"data\")\n",
    "ax.plot(Nobel_chocolate['GDP_person_thousands'], Chocolate_GDP_OLS_model.fittedvalues, 'r', label=\"Chocolate vs. GDP OLS model fit\")\n",
    "ax.plot(Nobel_chocolate['GDP_person_thousands'], conf_interval_u, 'r--', label='Confidence Interval')\n",
    "ax.plot(Nobel_chocolate['GDP_person_thousands'], conf_interval_l, 'r--')\n",
    "ax.legend(loc='best')\n",
    "ax.set_title('OLS model with Confidence Intervals\\n Chocolate Consumption vs. GDP per person thousands') # Give the plot a main title\n",
    "ax.set_xlabel('GDP per person thousands') # Set text for the x axis\n",
    "ax.set_ylabel('Choclate consumption') # Set text for y axis"
   ]
  },
  {
   "cell_type": "markdown",
   "metadata": {},
   "source": [
    "###  Exercise 2.1 - "
   ]
  },
  {
   "cell_type": "markdown",
   "metadata": {},
   "source": [
    "How confident are we in the coefficients computed with the OLS regression model? In other words, how confident are we in our estimate of an effect? \n",
    "\n",
    "We can measure the variation of an effect by size by the range of the confidence interval of the regression coefficient. There are several ways one can find these confidence intervals. An estimate of the confidence intervals, based on a Normal distribution model, is given in the model summary report. A more robust approach is to find the confidence intervals based on the **bootstrap distribution** of the model coefficient. \n",
    "\n",
    "The code in the cell below computes bootstrap samples of the slope coefficient (effect size) for the regression model. "
   ]
  },
  {
   "cell_type": "code",
   "execution_count": 16,
   "metadata": {},
   "outputs": [
    {
     "name": "stdout",
     "output_type": "stream",
     "text": [
      "Confidence intervals of slope coefficient for alpha =  0.05\n",
      "Loweer confidence interval =  0.042114977846806144\n",
      "Upper confidence interval =  0.053133409283598845\n"
     ]
    }
   ],
   "source": [
    "def bootstrap_effect(X,Y,nsamps = 5000):\n",
    "    coefficient_samples = []\n",
    "    ndata = len(Y)\n",
    "    for _ in range(nsamps):\n",
    "        sample_index = nr.choice(range(ndata), size=ndata, replace=True)\n",
    "        model = sm.OLS(Y[sample_index], X[sample_index]).fit()\n",
    "        coefficient_samples.append(model._results.params[0])        \n",
    "    return coefficient_samples\n",
    "\n",
    "def bootstrap_CIs(samples, alpha = 0.05):\n",
    "    alpha_half = alpha/2.0\n",
    "    nsamples = len(samples)\n",
    "    low_ci_index = int(alpha_half * nsamples)\n",
    "    high_ci_index = nsamples - low_ci_index\n",
    "    samples.sort()\n",
    "    lci, uci = samples[low_ci_index], samples[high_ci_index]\n",
    "    print('Confidence intervals of slope coefficient for alpha = ', alpha)\n",
    "    print('Loweer confidence interval = ', lci)\n",
    "    print('Upper confidence interval = ', uci)\n",
    "    return lci, uci\n",
    "\n",
    "X = np.array(Nobel_chocolate['GDP_person_thousands'])\n",
    "Y = np.array(Nobel_chocolate['log_Nobel'])\n",
    "boostrap_samples = bootstrap_effect(X, Y)\n",
    "LCI, UCI = bootstrap_CIs(boostrap_samples) \n"
   ]
  },
  {
   "cell_type": "code",
   "execution_count": 17,
   "metadata": {},
   "outputs": [
    {
     "data": {
      "text/plain": [
       "Text(0, 0.5, 'Counts')"
      ]
     },
     "execution_count": 17,
     "metadata": {},
     "output_type": "execute_result"
    },
    {
     "data": {
      "image/png": "[encoded data removed]",
      "text/plain": [
       "<Figure size 648x432 with 1 Axes>"
      ]
     },
     "metadata": {
      "needs_background": "light"
     },
     "output_type": "display_data"
    }
   ],
   "source": [
    "## Plot the model predictions with the confidence intervals\n",
    "fig, ax = plt.subplots(figsize=(9,6))\n",
    "ax.hist(boostrap_samples, bins = 50)\n",
    "ax.axvline(LCI, linestyle='--', c='r')\n",
    "ax.axvline(UCI, linestyle='--', c='r')\n",
    "\n",
    "ax.set_title('Histogram of bootstrap samples \\nwith confidence intervals')\n",
    "ax.set_ylabel('Model coefficient') # Set text for x axis\n",
    "ax.set_ylabel('Counts') # Set text for y axis"
   ]
  },
  {
   "cell_type": "markdown",
   "metadata": {},
   "source": [
    "## 3.0 Multiple Hypothesis Testing\n",
    "\n",
    "Testing multiple hypothesis from the same data can be problematic. The chance of finding false significance can be surprisingly high. \n",
    "\n",
    "To illustrate this, consider applying a t-test to multiple identical Normally distributed variables. In this case, we will create a data set with 20 independently identically distributed (iid) Normal distributions of 1000 samples each.  "
   ]
  },
  {
   "cell_type": "code",
   "execution_count": 18,
   "metadata": {},
   "outputs": [
    {
     "name": "stdout",
     "output_type": "stream",
     "text": [
      "The means of the columns are\n",
      " [-1.16191649e-01  2.80829317e-02 -1.78516419e-02 -1.44691489e-02\n",
      "  3.03718152e-02  1.20007442e-02 -9.58845606e-05  1.98662580e-03\n",
      "  4.94154934e-02 -4.11640866e-02 -6.32977862e-03 -5.93868192e-02\n",
      " -2.56373595e-02  1.43568791e-02 -1.44725765e-02 -1.37023955e-02\n",
      "  1.80622439e-02  5.87029691e-02 -2.02650514e-02 -1.56346106e-02]\n",
      "\n",
      "The variances of the columns are\n",
      " [0.94834508 1.04744241 1.0258018  0.96977571 1.0089001  1.04113864\n",
      " 1.00657222 0.99192594 1.04713487 1.04329434 1.04023108 0.96791346\n",
      " 1.03706907 1.07179865 1.01431404 1.05060289 1.02054329 0.9686211\n",
      " 1.02810287 0.99521555]\n"
     ]
    }
   ],
   "source": [
    "ncolumns = 20\n",
    "nr.seed(234)\n",
    "normal_vars = nr.normal(size=(1000,ncolumns))\n",
    "print('The means of the columns are\\n', np.mean(normal_vars, axis = 0))\n",
    "print('\\nThe variances of the columns are\\n', np.var(normal_vars, axis = 0))"
   ]
  },
  {
   "cell_type": "markdown",
   "metadata": {},
   "source": [
    "Notice that means and variances are close to 0.0 and 1.0. There is not much difference between these variables. \n",
    "\n",
    "Now for each pair of variables we will compute the t-statistic and p-value and append them to lists."
   ]
  },
  {
   "cell_type": "code",
   "execution_count": 19,
   "metadata": {
    "scrolled": false
   },
   "outputs": [],
   "source": [
    "from scipy.stats import ttest_ind, f_oneway\n",
    "from itertools import product\n",
    "#ttest_results = np.zeros((ncolumns*ncolumns,2))\n",
    "ttest_results = []\n",
    "p_values = []\n",
    "for i,j in product(range(ncolumns),range(ncolumns)):\n",
    "    if(i != j): # We only want to test between different samples \n",
    "        t1, t2 = ttest_ind(normal_vars[:,i], normal_vars[:,j])\n",
    "        ttest_results.append(t1)\n",
    "        p_values.append(t2)"
   ]
  },
  {
   "cell_type": "markdown",
   "metadata": {},
   "source": [
    "How many of these t-tests would show **significance**. To find out, filter the test results and print results that show significance. "
   ]
  },
  {
   "cell_type": "code",
   "execution_count": 20,
   "metadata": {
    "scrolled": false
   },
   "outputs": [
    {
     "name": "stdout",
     "output_type": "stream",
     "text": [
      "t-test with SIGNIFICANT, t-statistic =  -3.23  and p-value =  0.0013\n",
      "t-test with SIGNIFICANT, t-statistic =  -2.21  and p-value =  0.0271\n",
      "t-test with SIGNIFICANT, t-statistic =  -2.32  and p-value =  0.0204\n",
      "t-test with SIGNIFICANT, t-statistic =  -3.31  and p-value =  0.0009\n",
      "t-test with SIGNIFICANT, t-statistic =  -2.87  and p-value =  0.0041\n",
      "t-test with SIGNIFICANT, t-statistic =  -2.62  and p-value =  0.0087\n",
      "t-test with SIGNIFICANT, t-statistic =  -2.68  and p-value =  0.0074\n",
      "t-test with SIGNIFICANT, t-statistic =  -3.71  and p-value =  0.0002\n",
      "t-test with SIGNIFICANT, t-statistic =  -2.46  and p-value =  0.0139\n",
      "t-test with SIGNIFICANT, t-statistic =  -2.03  and p-value =  0.0424\n",
      "t-test with SIGNIFICANT, t-statistic =  -2.9  and p-value =  0.0037\n",
      "t-test with SIGNIFICANT, t-statistic =  -2.29  and p-value =  0.0218\n",
      "t-test with SIGNIFICANT, t-statistic =  -2.29  and p-value =  0.0221\n",
      "t-test with SIGNIFICANT, t-statistic =  -3.02  and p-value =  0.0025\n",
      "t-test with SIGNIFICANT, t-statistic =  -3.99  and p-value =  0.0001\n",
      "t-test with SIGNIFICANT, t-statistic =  -2.16  and p-value =  0.0312\n",
      "t-test with SIGNIFICANT, t-statistic =  -2.28  and p-value =  0.0227\n",
      "t-test with SIGNIFICANT, t-statistic =  3.23  and p-value =  0.0013\n",
      "t-test with SIGNIFICANT, t-statistic =  2.21  and p-value =  0.0271\n",
      "t-test with SIGNIFICANT, t-statistic =  2.32  and p-value =  0.0204\n",
      "t-test with SIGNIFICANT, t-statistic =  3.31  and p-value =  0.0009\n",
      "t-test with SIGNIFICANT, t-statistic =  2.02  and p-value =  0.0437\n",
      "t-test with SIGNIFICANT, t-statistic =  2.87  and p-value =  0.0041\n",
      "t-test with SIGNIFICANT, t-statistic =  2.62  and p-value =  0.0087\n",
      "t-test with SIGNIFICANT, t-statistic =  2.68  and p-value =  0.0074\n",
      "t-test with SIGNIFICANT, t-statistic =  3.71  and p-value =  0.0002\n",
      "t-test with SIGNIFICANT, t-statistic =  1.98  and p-value =  0.0478\n",
      "t-test with SIGNIFICANT, t-statistic =  2.42  and p-value =  0.0155\n",
      "t-test with SIGNIFICANT, t-statistic =  -1.98  and p-value =  0.0478\n",
      "t-test with SIGNIFICANT, t-statistic =  -2.23  and p-value =  0.0262\n",
      "t-test with SIGNIFICANT, t-statistic =  2.46  and p-value =  0.0139\n",
      "t-test with SIGNIFICANT, t-statistic =  -2.02  and p-value =  0.0437\n",
      "t-test with SIGNIFICANT, t-statistic =  -2.42  and p-value =  0.0155\n",
      "t-test with SIGNIFICANT, t-statistic =  -2.68  and p-value =  0.0074\n",
      "t-test with SIGNIFICANT, t-statistic =  2.03  and p-value =  0.0424\n",
      "t-test with SIGNIFICANT, t-statistic =  2.9  and p-value =  0.0037\n",
      "t-test with SIGNIFICANT, t-statistic =  2.29  and p-value =  0.0218\n",
      "t-test with SIGNIFICANT, t-statistic =  2.29  and p-value =  0.0221\n",
      "t-test with SIGNIFICANT, t-statistic =  3.02  and p-value =  0.0025\n",
      "t-test with SIGNIFICANT, t-statistic =  3.99  and p-value =  0.0001\n",
      "t-test with SIGNIFICANT, t-statistic =  2.23  and p-value =  0.0262\n",
      "t-test with SIGNIFICANT, t-statistic =  2.68  and p-value =  0.0074\n",
      "t-test with SIGNIFICANT, t-statistic =  2.16  and p-value =  0.0312\n",
      "t-test with SIGNIFICANT, t-statistic =  2.28  and p-value =  0.0227\n",
      "\n",
      "Number of falsely significant tests =  44\n"
     ]
    }
   ],
   "source": [
    "signifiance_level = 0.05\n",
    "def find_significant(p_values, ttest_results, signifiance_level):\n",
    "    n_cases = 0\n",
    "    for i in range(len(p_values)):\n",
    "        if(p_values[i] < signifiance_level): \n",
    "            n_cases += 1\n",
    "            print('t-test with SIGNIFICANT, t-statistic = ', round(ttest_results[i],2), ' and p-value = ', round(p_values[i],4))\n",
    "    print('\\nNumber of falsely significant tests = ', n_cases)        \n",
    "find_significant(p_values, ttest_results, signifiance_level)        "
   ]
  },
  {
   "cell_type": "markdown",
   "metadata": {},
   "source": [
    "Notice the large number of apparently significant tests. Do you trust these results to show any important relationships in the data? \n",
    "\n",
    "Can the Bonforoni correction help? Let's give it a try?"
   ]
  },
  {
   "cell_type": "code",
   "execution_count": 21,
   "metadata": {},
   "outputs": [
    {
     "name": "stdout",
     "output_type": "stream",
     "text": [
      "With Bonforoni correction the significance level is now =  0.00013157894736842105\n",
      "t-test with SIGNIFICANT, t-statistic =  -3.99  and p-value =  0.0001\n",
      "t-test with SIGNIFICANT, t-statistic =  3.99  and p-value =  0.0001\n",
      "\n",
      "Number of falsely significant tests =  2\n"
     ]
    }
   ],
   "source": [
    "signifiance_bonforoni = signifiance_level/380.0\n",
    "print('With Bonforoni correction the significance level is now = ', signifiance_bonforoni)\n",
    "find_significant(p_values, ttest_results, signifiance_bonforoni)  "
   ]
  },
  {
   "cell_type": "markdown",
   "metadata": {},
   "source": [
    "Even with the Bonforoni correction we have some false significance tests, if only just barely!\n",
    "\n",
    "But, can we detect small effect with Bonforoni correction?"
   ]
  },
  {
   "cell_type": "code",
   "execution_count": 22,
   "metadata": {},
   "outputs": [
    {
     "data": {
      "text/plain": [
       "Ttest_indResult(statistic=array([-2.49553488]), pvalue=array([0.01265684]))"
      ]
     },
     "execution_count": 22,
     "metadata": {},
     "output_type": "execute_result"
    }
   ],
   "source": [
    "nr.seed(567)\n",
    "ttest_ind(normal_vars[:,0], nr.normal(loc = 0.01, size=(1000,1)))"
   ]
  },
  {
   "cell_type": "markdown",
   "metadata": {},
   "source": [
    "\n",
    "What do the confidence intervals for the difference of means tell us? "
   ]
  },
  {
   "cell_type": "code",
   "execution_count": 23,
   "metadata": {
    "scrolled": false
   },
   "outputs": [],
   "source": [
    "def bootstrap_CIs_2(samples, alpha = 0.05):\n",
    "    alpha_half = alpha/2.0\n",
    "    nsamples = len(samples)\n",
    "    low_ci_index = int(alpha_half * nsamples)\n",
    "    high_ci_index = nsamples - low_ci_index\n",
    "    samples.sort()\n",
    "    lci, uci = samples[low_ci_index], samples[high_ci_index]\n",
    "    return np.mean(samples), lci, uci\n",
    "\n",
    "def bootstrap_diffs(X,Y,nsamps = 1000):\n",
    "    coefficient_samples = []\n",
    "    ndata = len(Y)\n",
    "    diffs = []\n",
    "    for _ in range(nsamps):\n",
    "        sample_index = nr.choice(range(ndata), size=ndata, replace=True)\n",
    "        diffs.append(np.mean(Y[sample_index]) - np.mean(X[sample_index]))   \n",
    "    return diffs\n",
    "\n",
    "def boot_diff_of_means(vars, nsamps=1000, alpha=0.5):\n",
    "    mean_diffs = []\n",
    "    LCIs = []\n",
    "    UCIs = []\n",
    "    for i,j in product(range(ncolumns),range(ncolumns)):\n",
    "        if(i != j):\n",
    "            diffs = bootstrap_diffs(vars[:,i], vars[:,j], nsamps=nsamps)\n",
    "            mean_diff, lci, uci =  bootstrap_CIs_2(diffs, alpha=alpha)  \n",
    "            mean_diffs.append(mean_diff)\n",
    "            LCIs.append(lci)\n",
    "            UCIs.append(uci)\n",
    "    return mean_diffs, LCIs, UCIs\n",
    "\n",
    "diff_of_means, LCIs, UCIs = boot_diff_of_means(normal_vars)"
   ]
  },
  {
   "cell_type": "code",
   "execution_count": 29,
   "metadata": {},
   "outputs": [
    {
     "data": {
      "text/plain": [
       "Text(0, 0.5, 'Counts')"
      ]
     },
     "execution_count": 29,
     "metadata": {},
     "output_type": "execute_result"
    },
    {
     "data": {
      "image/png": "[encoded data removed]",
      "text/plain": [
       "<Figure size 648x432 with 1 Axes>"
      ]
     },
     "metadata": {
      "needs_background": "light"
     },
     "output_type": "display_data"
    }
   ],
   "source": [
    "## Plot the model predictions with the confidence intervals\n",
    "fig, ax = plt.subplots(figsize=(9,6))\n",
    "ax.hist(diff_of_means, bins = 25)\n",
    "ax.axvline(np.mean(LCIs), linestyle='--', c='r')\n",
    "ax.axvline(np.mean(UCIs), linestyle='--', c='r')\n",
    "\n",
    "ax.set_title('Histogram of bootstrap difference of means \\nwith mean confidence intervals')\n",
    "ax.set_ylabel('Difference of means') # Set text for x axis\n",
    "ax.set_ylabel('Counts') # Set text for y axis"
   ]
  },
  {
   "cell_type": "code",
   "execution_count": 33,
   "metadata": {
    "scrolled": false
   },
   "outputs": [
    {
     "name": "stdout",
     "output_type": "stream",
     "text": [
      "CIs do not include zero; mean =  0.143  , Lower CI =  0.113  , Upper CI =  0.173\n",
      "CIs do not include zero; mean =  0.101  , Lower CI =  0.07  , Upper CI =  0.129\n",
      "CIs do not include zero; mean =  0.142  , Lower CI =  0.113  , Upper CI =  0.172\n",
      "CIs do not include zero; mean =  0.13  , Lower CI =  0.098  , Upper CI =  0.161\n",
      "CIs do not include zero; mean =  0.116  , Lower CI =  0.083  , Upper CI =  0.149\n",
      "CIs do not include zero; mean =  0.117  , Lower CI =  0.086  , Upper CI =  0.149\n",
      "CIs do not include zero; mean =  0.164  , Lower CI =  0.133  , Upper CI =  0.197\n",
      "CIs do not include zero; mean =  0.108  , Lower CI =  0.081  , Upper CI =  0.136\n",
      "CIs do not include zero; mean =  0.127  , Lower CI =  0.094  , Upper CI =  0.158\n",
      "CIs do not include zero; mean =  0.101  , Lower CI =  0.071  , Upper CI =  0.131\n",
      "CIs do not include zero; mean =  0.103  , Lower CI =  0.073  , Upper CI =  0.134\n",
      "CIs do not include zero; mean =  0.136  , Lower CI =  0.106  , Upper CI =  0.165\n",
      "CIs do not include zero; mean =  0.174  , Lower CI =  0.144  , Upper CI =  0.204\n",
      "CIs do not include zero; mean =  0.103  , Lower CI =  0.075  , Upper CI =  0.133\n",
      "CIs do not include zero; mean =  -0.144  , Lower CI =  -0.172  , Upper CI =  -0.113\n",
      "CIs do not include zero; mean =  -0.102  , Lower CI =  -0.132  , Upper CI =  -0.072\n",
      "CIs do not include zero; mean =  -0.145  , Lower CI =  -0.175  , Upper CI =  -0.114\n",
      "CIs do not include zero; mean =  -0.128  , Lower CI =  -0.158  , Upper CI =  -0.097\n",
      "CIs do not include zero; mean =  -0.118  , Lower CI =  -0.148  , Upper CI =  -0.089\n",
      "CIs do not include zero; mean =  -0.118  , Lower CI =  -0.148  , Upper CI =  -0.089\n",
      "CIs do not include zero; mean =  -0.163  , Lower CI =  -0.195  , Upper CI =  -0.131\n",
      "CIs do not include zero; mean =  -0.11  , Lower CI =  -0.138  , Upper CI =  -0.081\n",
      "CIs do not include zero; mean =  -0.108  , Lower CI =  -0.137  , Upper CI =  -0.078\n",
      "CIs do not include zero; mean =  0.11  , Lower CI =  0.08  , Upper CI =  0.138\n",
      "CIs do not include zero; mean =  0.118  , Lower CI =  0.088  , Upper CI =  0.15\n",
      "CIs do not include zero; mean =  -0.13  , Lower CI =  -0.163  , Upper CI =  -0.099\n",
      "CIs do not include zero; mean =  -0.102  , Lower CI =  -0.133  , Upper CI =  -0.073\n",
      "CIs do not include zero; mean =  -0.105  , Lower CI =  -0.135  , Upper CI =  -0.076\n",
      "CIs do not include zero; mean =  -0.133  , Lower CI =  -0.164  , Upper CI =  -0.101\n",
      "CIs do not include zero; mean =  -0.175  , Lower CI =  -0.204  , Upper CI =  -0.146\n",
      "CIs do not include zero; mean =  -0.12  , Lower CI =  -0.15  , Upper CI =  -0.088\n",
      "\n",
      "Number of falsely significant tests =  31\n"
     ]
    }
   ],
   "source": [
    "effect_threshold = 0.1\n",
    "def find_bootstrap_significant(mean_values, LCIs, UCIs, effect_threshold):\n",
    "    n_cases = 0\n",
    "    for i in range(len(p_values)):\n",
    "        ## Test if upper and lower CIs both have the same sign, indicating significance.                \n",
    "        if(abs(mean_values[i]) > effect_threshold and ((LCIs[i] > 0.0 and UCIs[i] > 0.0) or (LCIs[i] < 0.0 and UCIs[i] < 0.0))): \n",
    "            n_cases += 1\n",
    "            print('CIs do not include zero; mean = ', round(mean_values[i], 3), \n",
    "                  ' , Lower CI = ', round(LCIs[i], 3), ' , Upper CI = ', round(UCIs[i], 3))\n",
    "    print('\\nNumber of falsely significant tests = ', n_cases)        \n",
    "find_bootstrap_significant(diff_of_means, LCIs, UCIs, effect_threshold) "
   ]
  },
  {
   "cell_type": "markdown",
   "metadata": {},
   "source": [
    "Would ANOVA work better? Let's give it a try for the first 10 columns of the data frame."
   ]
  },
  {
   "cell_type": "code",
   "execution_count": 25,
   "metadata": {},
   "outputs": [
    {
     "data": {
      "text/plain": [
       "F_onewayResult(statistic=2.143527277355356, pvalue=0.022915451627654522)"
      ]
     },
     "execution_count": 25,
     "metadata": {},
     "output_type": "execute_result"
    }
   ],
   "source": [
    "f_oneway(normal_vars[:,0],normal_vars[:,1],normal_vars[:,2],normal_vars[:,3],normal_vars[:,4],normal_vars[:,5],normal_vars[:,6],normal_vars[:,7],normal_vars[:,8],normal_vars[:,9])"
   ]
  },
  {
   "cell_type": "markdown",
   "metadata": {},
   "source": [
    "### Power of Tests\n",
    "\n",
    "The **power of a test** is formally defined as:\n",
    "\n",
    "$$power = P(reject\\ H_0| when\\ H_a\\ is\\ true)$$\n",
    "\n",
    "In pain language, the power is the probability of getting a positive result when the null hypothesis is not true. Conversely, a test with insuficient power will not detect a real effect. Clearly, we want the most powerful test we can find for the situation. \n",
    "\n",
    "Computing test power can be a bit complex, and analytical solutions can be dificult or impossible. Often, a simulation is used to compute power. \n",
    "\n",
    "Let's look at the example of compution power for the two sample t-test for the difference of means. The power of this test depends on the several parameters:\n",
    "\n",
    "- The number of samples.\n",
    "- The anticipated difference in the population means, which we call the **effect**.\n",
    "- The significance level of  the test.\n",
    "- The type of test.\n",
    "\n",
    "When running a power test, you can ask several questions, which will assist you in designing an experiement. Usually, you will determine how big a sample you need to have good chance of rejecting the null hypothesis. You can also determine how big an effect needs to be given a fixed sample size (all the samples you have or can afford) to have a good chance of rejecting the null hypothesis. \n",
    "\n",
    "The Python `statsmodels` package provides power calculations for a limited set of hypothesis tests. We can use these capabilities to examine the powerr\n",
    "\n",
    "The code in the cell below does the following:\n",
    "\n",
    "- Create a sequene of effect sizes.\n",
    "- Compute a vector of power values for the effect size.\n",
    "- Plot the effect size vs. power. \n",
    "\n",
    "Execute this code and examine the result. "
   ]
  },
  {
   "cell_type": "code",
   "execution_count": 26,
   "metadata": {},
   "outputs": [
    {
     "data": {
      "image/png": "[encoded data removed]",
      "text/plain": [
       "<Figure size 432x288 with 1 Axes>"
      ]
     },
     "metadata": {
      "needs_background": "light"
     },
     "output_type": "display_data"
    }
   ],
   "source": [
    "import statsmodels.stats.power as smsp\n",
    "nr.seed(seed=23344)\n",
    "diffs = np.arange(start = 0.0, stop = 0.5, step = .01)\n",
    "powers = [smsp.tt_ind_solve_power(effect_size = x, nobs1 = 1000, \n",
    "           alpha = 0.05, power = None, ratio = 1.0, alternative = 'two-sided') \n",
    "          for x in diffs]\n",
    "\n",
    "def plot_power(x, y, xlabel, title):\n",
    "    import matplotlib.pyplot as plt\n",
    "    plt.plot(x, y, color = 'red', linewidth = 2)\n",
    "    plt.title(title)\n",
    "    plt.xlabel(xlabel)\n",
    "    plt.ylabel('Power')\n",
    "plot_power(diffs, powers, xlabel = 'Difference of means', title = 'Power vs. difference of means')    "
   ]
  },
  {
   "cell_type": "code",
   "execution_count": 27,
   "metadata": {},
   "outputs": [
    {
     "data": {
      "image/png": "[encoded data removed]",
      "text/plain": [
       "<Figure size 432x288 with 1 Axes>"
      ]
     },
     "metadata": {
      "needs_background": "light"
     },
     "output_type": "display_data"
    }
   ],
   "source": [
    "nr.seed(seed=1234)\n",
    "alphas = np.arange(start = 0.001, stop = 0.05, step = .001)\n",
    "powers = [smsp.tt_ind_solve_power(effect_size = 0.1, nobs1 = 1000, \n",
    "           alpha = x, power = None, ratio = 1.0, alternative = 'two-sided') \n",
    "          for x in alphas]\n",
    "\n",
    "def plot_power(x, y, xlabel, title):\n",
    "    import matplotlib.pyplot as plt\n",
    "    plt.plot(x, y, color = 'red', linewidth = 2)\n",
    "    plt.title(title)\n",
    "    plt.xlabel(xlabel)\n",
    "    plt.ylabel('Power')\n",
    "plot_power(alphas, powers, xlabel = 'significance level', title = 'Power vs. significance level')    "
   ]
  },
  {
   "cell_type": "code",
   "execution_count": 28,
   "metadata": {},
   "outputs": [
    {
     "data": {
      "image/png": "[encoded data removed]",
      "text/plain": [
       "<Figure size 432x288 with 1 Axes>"
      ]
     },
     "metadata": {
      "needs_background": "light"
     },
     "output_type": "display_data"
    }
   ],
   "source": [
    "nr.seed(seed=1234)\n",
    "effect_size = np.arange(start = 0.1, stop = 0.5, step = .01)\n",
    "powers = [smsp.tt_ind_solve_power(effect_size = x, nobs1 = 1000, \n",
    "           alpha = 0.01, power = None, ratio = 1.0, alternative = 'two-sided') \n",
    "          for x in effect_size]\n",
    "\n",
    "def plot_power(x, y, xlabel, title):\n",
    "    import matplotlib.pyplot as plt\n",
    "    plt.plot(x, y, color = 'red', linewidth = 2)\n",
    "    plt.title(title)\n",
    "    plt.xlabel(xlabel)\n",
    "    plt.ylabel('Power')\n",
    "plot_power(effect_size, powers, xlabel = 'Effect Size', title = 'Power vs. effect size')    "
   ]
  },
  {
   "cell_type": "markdown",
   "metadata": {},
   "source": [
    "#### Copyright 2019, 2020, Tom Phillip Carpenter, Stephen F Elston. All rights reserved. "
   ]
  },
  {
   "cell_type": "code",
   "execution_count": null,
   "metadata": {},
   "outputs": [],
   "source": []
  }
 ],
 "metadata": {
  "kernelspec": {
   "display_name": "Python 3",
   "language": "python",
   "name": "python3"
  },
  "language_info": {
   "codemirror_mode": {
    "name": "ipython",
    "version": 3
   },
   "file_extension": ".py",
   "mimetype": "text/x-python",
   "name": "python",
   "nbconvert_exporter": "python",
   "pygments_lexer": "ipython3",
   "version": "3.7.3"
  }
 },
 "nbformat": 4,
 "nbformat_minor": 2
}
